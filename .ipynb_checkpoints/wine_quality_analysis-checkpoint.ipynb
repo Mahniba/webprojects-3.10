{
 "cells": [
  {
   "cell_type": "markdown",
   "id": "2e9b8bec",
   "metadata": {},
   "source": [
    "# Hello you, 👋\n",
    "### and welcome to this assignment. Let's dive right in!"
   ]
  },
  {
   "cell_type": "markdown",
   "id": "19d46e70",
   "metadata": {},
   "source": [
    "If you haven't read [the README](https://github.com/Kanyelings/projects-3.10/blob/main/README.md) for this project, make sure to do so immediately.\n",
    "\n",
    "This notebook is divided into two sections for now: **Wrangling** and **Analyzing** (except otherwise in the future).\n",
    "Feel free to send your questions to [this mail](mailto:d3liaayoko).\n",
    "\n",
    "Each empty cell in this notebook should contain the solution to the task above it. Also, please do not clear your outputs!"
   ]
  },
  {
   "cell_type": "markdown",
   "id": "cb1b0199",
   "metadata": {},
   "source": [
    "## 1. Wrangling"
   ]
  },
  {
   "cell_type": "markdown",
   "id": "04d9dfe5",
   "metadata": {},
   "source": [
    "**Task 1.1:** Import the dataset`(\"winequality-red.csv\")` and display the first five rows of the DataFrame."
   ]
  },
  {
   "cell_type": "code",
   "execution_count": 18,
   "id": "7938f2ee",
   "metadata": {},
   "outputs": [
    {
     "name": "stdout",
     "output_type": "stream",
     "text": [
      "   fixed acidity  volatile acidity  citric acid  residual sugar  chlorides  \\\n",
      "0            7.4              0.70         0.00             1.9      0.076   \n",
      "1            7.8              0.88         0.00             2.6      0.098   \n",
      "2            7.8              0.76         0.04             2.3      0.092   \n",
      "3           11.2              0.28         0.56             1.9      0.075   \n",
      "4            7.4              0.70         0.00             1.9      0.076   \n",
      "\n",
      "   free sulfur dioxide  total sulfur dioxide  density    pH  sulphates  \\\n",
      "0                 11.0                  34.0   0.9978  3.51       0.56   \n",
      "1                 25.0                  67.0   0.9968  3.20       0.68   \n",
      "2                 15.0                  54.0   0.9970  3.26       0.65   \n",
      "3                 17.0                  60.0   0.9980  3.16       0.58   \n",
      "4                 11.0                  34.0   0.9978  3.51       0.56   \n",
      "\n",
      "   alcohol  quality  \n",
      "0      9.4        5  \n",
      "1      9.8        5  \n",
      "2      9.8        5  \n",
      "3      9.8        6  \n",
      "4      9.4        5  \n"
     ]
    }
   ],
   "source": [
    "import pandas as pd\n",
    "df =pd.read_csv(\"wine-quality dataset/winequality-red.csv\")\n",
    "print(df.head())"
   ]
  },
  {
   "cell_type": "markdown",
   "id": "b776c4b2",
   "metadata": {},
   "source": [
    "**Task 1.2:** Inspect the DataFrame using [any 3 of these ways.](https://www.google.com/url?sa=t&rct=j&q=&esrc=s&source=web&cd=&cad=rja&uact=8&ved=2ahUKEwi-gZHst4uAAxWLRaQEHf_GA_4QFnoECA8QAQ&url=https%3A%2F%2Fmedium.com%2Fcodex%2F10-efficient-ways-for-inspecting-a-pandas-dataframe-object-3f66563e2f2&usg=AOvVaw2XnUUADHfXp3llJVL3JClr&opi=89978449). If there are any missing values, drop them."
   ]
  },
  {
   "cell_type": "code",
   "execution_count": 19,
   "id": "01164d7e",
   "metadata": {},
   "outputs": [
    {
     "name": "stdout",
     "output_type": "stream",
     "text": [
      "(1599, 12)\n"
     ]
    }
   ],
   "source": [
    "import pandas as pd\n",
    "df=pd.read_csv(\"wine-quality dataset/winequality-red.csv\")\n",
    "print(df.shape)"
   ]
  },
  {
   "cell_type": "markdown",
   "id": "11480b4b",
   "metadata": {},
   "source": [
    "**Task 1.3:** Drop the `quality` column."
   ]
  },
  {
   "cell_type": "code",
   "execution_count": 29,
   "id": "86d97d09",
   "metadata": {},
   "outputs": [
    {
     "name": "stdout",
     "output_type": "stream",
     "text": [
      "inspect the DataFrame for missing values\n",
      "      fixed acidity  volatile acidity  citric acid  residual sugar  chlorides  \\\n",
      "0             False             False        False           False      False   \n",
      "1             False             False        False           False      False   \n",
      "2             False             False        False           False      False   \n",
      "3             False             False        False           False      False   \n",
      "4             False             False        False           False      False   \n",
      "...             ...               ...          ...             ...        ...   \n",
      "1594          False             False        False           False      False   \n",
      "1595          False             False        False           False      False   \n",
      "1596          False             False        False           False      False   \n",
      "1597          False             False        False           False      False   \n",
      "1598          False             False        False           False      False   \n",
      "\n",
      "      free sulfur dioxide  total sulfur dioxide  density     pH  sulphates  \\\n",
      "0                   False                 False    False  False      False   \n",
      "1                   False                 False    False  False      False   \n",
      "2                   False                 False    False  False      False   \n",
      "3                   False                 False    False  False      False   \n",
      "4                   False                 False    False  False      False   \n",
      "...                   ...                   ...      ...    ...        ...   \n",
      "1594                False                 False    False  False      False   \n",
      "1595                False                 False    False  False      False   \n",
      "1596                False                 False    False  False      False   \n",
      "1597                False                 False    False  False      False   \n",
      "1598                False                 False    False  False      False   \n",
      "\n",
      "      alcohol  quality  \n",
      "0       False    False  \n",
      "1       False    False  \n",
      "2       False    False  \n",
      "3       False    False  \n",
      "4       False    False  \n",
      "...       ...      ...  \n",
      "1594    False    False  \n",
      "1595    False    False  \n",
      "1596    False    False  \n",
      "1597    False    False  \n",
      "1598    False    False  \n",
      "\n",
      "[1599 rows x 12 columns]\n",
      "inspect the cleaned DataFrame for missing values\n"
     ]
    }
   ],
   "source": [
    "import pandas as pd\n",
    "df=pd.read_csv(\"wine-quality dataset/winequality-red.csv\")\n",
    "print(\"inspect the DataFrame for missing values\")\n",
    "print(df.isnull())\n",
    "df =df.drop(\"quality\" ,axis= 1, inplace=True)\n",
    "print(\"inspect the cleaned DataFrame for missing values\")"
   ]
  },
  {
   "cell_type": "markdown",
   "id": "87906311",
   "metadata": {},
   "source": [
    "**Task 1.4:** Subset the DataFrame such that it masks only wine with `alcohol` value greater than or equal to **12.0**."
   ]
  },
  {
   "cell_type": "code",
   "execution_count": 25,
   "id": "4ca19397",
   "metadata": {},
   "outputs": [
    {
     "name": "stdout",
     "output_type": "stream",
     "text": [
      "     fixed acidity  volatile acidity  citric acid  residual sugar  chlorides  \\\n",
      "45             4.6              0.52         0.15             2.1      0.054   \n",
      "95             4.7              0.60         0.17             2.3      0.058   \n",
      "131            5.6              0.50         0.09             2.3      0.049   \n",
      "132            5.6              0.50         0.09             2.3      0.049   \n",
      "142            5.2              0.34         0.00             1.8      0.050   \n",
      "\n",
      "     free sulfur dioxide  total sulfur dioxide  density    pH  sulphates  \\\n",
      "45                   8.0                  65.0   0.9934  3.90       0.56   \n",
      "95                  17.0                 106.0   0.9932  3.85       0.60   \n",
      "131                 17.0                  99.0   0.9937  3.63       0.63   \n",
      "132                 17.0                  99.0   0.9937  3.63       0.63   \n",
      "142                 27.0                  63.0   0.9916  3.68       0.79   \n",
      "\n",
      "     alcohol  quality  \n",
      "45      13.1        4  \n",
      "95      12.9        6  \n",
      "131     13.0        5  \n",
      "132     13.0        5  \n",
      "142     14.0        6  \n"
     ]
    }
   ],
   "source": [
    "import pandas as pd\n",
    "df=pd.read_csv(\"wine-quality dataset/winequality-red.csv\")\n",
    "mask = df[\"alcohol\"] >= 12.0\n",
    "df_subset = df[mask]\n",
    "print(df_subset.head())"
   ]
  },
  {
   "cell_type": "markdown",
   "id": "900ce9d8",
   "metadata": {},
   "source": [
    "**Task 1.5:** Subset the DataFrame again, this time, masking only wine with `pH` value greater than or equal to **2.0**."
   ]
  },
  {
   "cell_type": "code",
   "execution_count": 26,
   "id": "7c5e3054",
   "metadata": {},
   "outputs": [
    {
     "name": "stdout",
     "output_type": "stream",
     "text": [
      "   fixed acidity  volatile acidity  citric acid  residual sugar  chlorides  \\\n",
      "0            7.4              0.70         0.00             1.9      0.076   \n",
      "1            7.8              0.88         0.00             2.6      0.098   \n",
      "2            7.8              0.76         0.04             2.3      0.092   \n",
      "3           11.2              0.28         0.56             1.9      0.075   \n",
      "4            7.4              0.70         0.00             1.9      0.076   \n",
      "\n",
      "   free sulfur dioxide  total sulfur dioxide  density    pH  sulphates  \\\n",
      "0                 11.0                  34.0   0.9978  3.51       0.56   \n",
      "1                 25.0                  67.0   0.9968  3.20       0.68   \n",
      "2                 15.0                  54.0   0.9970  3.26       0.65   \n",
      "3                 17.0                  60.0   0.9980  3.16       0.58   \n",
      "4                 11.0                  34.0   0.9978  3.51       0.56   \n",
      "\n",
      "   alcohol  quality  \n",
      "0      9.4        5  \n",
      "1      9.8        5  \n",
      "2      9.8        5  \n",
      "3      9.8        6  \n",
      "4      9.4        5  \n"
     ]
    }
   ],
   "source": [
    "import pandas as pd\n",
    "df=pd.read_csv(\"wine-quality dataset/winequality-red.csv\")\n",
    "mask = df[\"pH\"] >= 2.0\n",
    "df_subset = df[mask]\n",
    "print(df_subset.head())"
   ]
  },
  {
   "cell_type": "markdown",
   "id": "a7278b89",
   "metadata": {},
   "source": [
    "## 2. Analyzing\n",
    "\n",
    "For the next series of tasks. The instructions will be updated as soon as the others have been completed.\n",
    "\n",
    "Have fun, champ!"
   ]
  },
  {
   "cell_type": "markdown",
   "id": "13244e54",
   "metadata": {},
   "source": [
    "**Task 2.1:**"
   ]
  },
  {
   "cell_type": "code",
   "execution_count": null,
   "id": "700c08e0",
   "metadata": {},
   "outputs": [],
   "source": []
  },
  {
   "cell_type": "markdown",
   "id": "65106e1e",
   "metadata": {},
   "source": [
    "**Task 2.2:**"
   ]
  },
  {
   "cell_type": "code",
   "execution_count": null,
   "id": "caa15da6",
   "metadata": {},
   "outputs": [],
   "source": []
  },
  {
   "cell_type": "markdown",
   "id": "76c646ad",
   "metadata": {},
   "source": [
    "**Task 2.3:**"
   ]
  },
  {
   "cell_type": "code",
   "execution_count": null,
   "id": "028dc350",
   "metadata": {},
   "outputs": [],
   "source": []
  }
 ],
 "metadata": {
  "kernelspec": {
   "display_name": "Python 3 (ipykernel)",
   "language": "python",
   "name": "python3"
  },
  "language_info": {
   "codemirror_mode": {
    "name": "ipython",
    "version": 3
   },
   "file_extension": ".py",
   "mimetype": "text/x-python",
   "name": "python",
   "nbconvert_exporter": "python",
   "pygments_lexer": "ipython3",
   "version": "3.11.2"
  }
 },
 "nbformat": 4,
 "nbformat_minor": 5
}
